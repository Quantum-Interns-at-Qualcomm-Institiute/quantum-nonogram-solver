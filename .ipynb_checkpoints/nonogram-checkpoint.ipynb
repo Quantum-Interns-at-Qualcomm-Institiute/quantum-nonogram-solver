{
 "cells": [
  {
   "cell_type": "code",
   "execution_count": 1,
   "id": "19878c3e",
   "metadata": {},
   "outputs": [
    {
     "data": {
      "text/html": [
       "<h3>Version Information</h3><table><tr><th>Qiskit Software</th><th>Version</th></tr><tr><td><code>qiskit-terra</code></td><td>0.23.1</td></tr><tr><td><code>qiskit-aer</code></td><td>0.11.2</td></tr><tr><td><code>qiskit-ibmq-provider</code></td><td>0.20.0</td></tr><tr><td><code>qiskit</code></td><td>0.41.0</td></tr><tr><th>System information</th></tr><tr><td>Python version</td><td>3.10.9</td></tr><tr><td>Python compiler</td><td>GCC 11.3.0</td></tr><tr><td>Python build</td><td>main, Feb  2 2023 20:11:30</td></tr><tr><td>OS</td><td>Linux</td></tr><tr><td>CPUs</td><td>4</td></tr><tr><td>Memory (Gb)</td><td>7.629241943359375</td></tr><tr><td colspan='2'>Mon Feb 27 13:30:32 2023 PST</td></tr></table>"
      ],
      "text/plain": [
       "<IPython.core.display.HTML object>"
      ]
     },
     "metadata": {},
     "output_type": "display_data"
    }
   ],
   "source": [
    "import qiskit.tools.jupyter\n",
    "%qiskit_version_table"
   ]
  },
  {
   "cell_type": "code",
   "execution_count": 3,
   "id": "f48442df",
   "metadata": {
    "tags": []
   },
   "outputs": [],
   "source": [
    "import matplotlib.pyplot as plt\n",
    "import matplotlib as mpl\n",
    "import numpy as np\n",
    "import math\n",
    "\n",
    "from qiskit import IBMQ, Aer, assemble, transpile, QuantumCircuit, ClassicalRegister, QuantumRegister, execute\n",
    "from qiskit.quantum_info.operators import Operator\n",
    "from qiskit.providers.ibmq import least_busy\n",
    "from qiskit.visualization import plot_histogram\n",
    "from qiskit.circuit.library import PhaseOracle"
   ]
  },
  {
   "cell_type": "markdown",
   "id": "41903ba7",
   "metadata": {
    "jp-MarkdownHeadingCollapsed": true,
    "tags": []
   },
   "source": [
    "# Quantum Circuit Init"
   ]
  },
  {
   "cell_type": "markdown",
   "id": "0894d9e2",
   "metadata": {},
   "source": [
    "## Oracles"
   ]
  },
  {
   "cell_type": "code",
   "execution_count": 15,
   "id": "21ac4130",
   "metadata": {},
   "outputs": [],
   "source": [
    "# TODO: Remove\n",
    "def oracle(qc, oracle_type, solution, n, d = None):\n",
    "    if d == None:\n",
    "        d = n\n",
    "    match oracle_type:\n",
    "        case 'binary_sudoku_2x2':\n",
    "            binary_sudoku_2x2(qc, clause_list, clause_qubits)\n",
    "        case 'cheat':\n",
    "            cheat(qc, solution, n, d)"
   ]
  },
  {
   "cell_type": "code",
   "execution_count": 17,
   "id": "2a40d9a3",
   "metadata": {},
   "outputs": [],
   "source": [
    "def binary_sudoku_2x2(qc, clause_list, clause_qubits):\n",
    "    def XOR(qc, a, b, out):\n",
    "        qc.cx(a, out)\n",
    "        qc.cx(b, out)\n",
    "    i = 0\n",
    "    for clause in clause_list:\n",
    "        XOR(qc, clause[0], clause[1], clause_qubits[i])\n",
    "        i += 1\n",
    "    qc.mct(clause_qubits, out_qubit)\n",
    "    i = 0\n",
    "    for clause in clause_list:\n",
    "        XOR(qc, clause[0], clause[1], clause_qubits[i])\n",
    "        i += 1"
   ]
  },
  {
   "cell_type": "code",
   "execution_count": 16,
   "id": "00e02abd",
   "metadata": {},
   "outputs": [],
   "source": [
    "# TODO: make it so it actualy makes an oracle\n",
    "# Takes an n x d nonogram and converts it into an nd x nd diagonal matrix with -1 being black and 1 being white\n",
    "# Limitations: spits answer back out, only one \"solution\" results \n",
    "def cheat(qc, solution, n, d):\n",
    "    temp = np.zeros((n*d,n*d), int)\n",
    "    return Operator(np.diag(list(map(lambda n: -1 if n == 1 else 1, solution))))"
   ]
  },
  {
   "cell_type": "code",
   "execution_count": 99,
   "id": "f9229d60",
   "metadata": {},
   "outputs": [],
   "source": [
    "def boolean_phase_oracle(row_clues, col_clues, n, d = None, debug_mode = False):\n",
    "    if d is None:\n",
    "        d = n\n",
    "    boolean_statement = \"\"\n",
    "    r_v, c_v = var_clauses(n, d)\n",
    "    \n",
    "    for r_idx, r_clue in enumerate(row_clues):\n",
    "        bit_strings = possible_d[f\"{n}/{';'.join(map(str, r_clue))};\"]\n",
    "        clauses = []\n",
    "        for b_idx, bitstring in enumerate(bit_strings):\n",
    "            clause = \"\"\n",
    "            for c_idx in range(d):\n",
    "                if bitstring & (1 << c_idx):\n",
    "                    clause += f'v{r_v[r_idx][c_idx]}&'\n",
    "                else:\n",
    "                    clause += f'~v{r_v[r_idx][c_idx]}&'\n",
    "            clauses.append(\"(\" + clause[:-1] + \")\")\n",
    "        boolean_statement += \"(\" + \"|\".join(clauses) + \")&\"\n",
    "        \n",
    " # iterate over column clues (same as with row clues, but with transposed variables)\n",
    "    for c_idx, c_clue in enumerate(col_clues):\n",
    "        bitstrings = possible_d[f\"{d}/{';'.join(map(str, c_clue))};\"]\n",
    "        clauses = []\n",
    "        for b_idx, bitstring in enumerate(bitstrings):\n",
    "            clause = \"\"\n",
    "            for r_idx in range(n):\n",
    "                if bitstring & (1 << r_idx):\n",
    "                    clause += f\"v{r_v[r_idx][c_idx]}&\"\n",
    "                else:\n",
    "                    clause += f\"~v{r_v[r_idx][c_idx]}&\"\n",
    "            clauses.append(\"(\" + clause[:-1] + \")\")\n",
    "        boolean_statement += \"(\" + \"|\".join(clauses) + \")&\"\n",
    " \n",
    "    # remove trailing \"and \"\n",
    "    boolean_statement = boolean_statement[:-1]\n",
    "    return PhaseOracle(boolean_statement) if not debug_mode else boolean_statement\n",
    " "
   ]
  },
  {
   "cell_type": "code",
   "execution_count": 102,
   "id": "06abc7e4",
   "metadata": {},
   "outputs": [
    {
     "data": {
      "text/plain": [
       "<qiskit.circuit.library.phase_oracle.PhaseOracle at 0x7f4ebe1630>"
      ]
     },
     "execution_count": 102,
     "metadata": {},
     "output_type": "execute_result"
    }
   ],
   "source": [
    "boolean_phase_oracle([(1,),(1,)],[(1,),(1,)],2)"
   ]
  },
  {
   "cell_type": "code",
   "execution_count": 18,
   "id": "4bd63fcb",
   "metadata": {},
   "outputs": [],
   "source": [
    "def initialize_s(qc, qubits):\n",
    "    for q in qubits:\n",
    "        qc.h(q)\n",
    "    return qc"
   ]
  },
  {
   "cell_type": "code",
   "execution_count": 1,
   "id": "ee3430ac",
   "metadata": {
    "tags": []
   },
   "outputs": [],
   "source": [
    "def apply_diffusion(c, q):\n",
    "    n_qubits = len(q)\n",
    "    c.h(q)\n",
    "    c.x(q)\n",
    "    c.h(q[-1])\n",
    "    c.mct(list(range(n_qubits-1)), q[-1])\n",
    "    c.h(q[-1])\n",
    "    c.x(q)\n",
    "    c.h(q)\n",
    "    c.z(q[:-1])\n",
    "    c.h(q[:-1])\n",
    "#     for q in range(nq):\n",
    "#         qc.h(q)\n",
    "#     for q in range(nq):\n",
    "#         qc.x(q)\n",
    "#     qc.h(nq-1)\n",
    "#     qc.mct(list(range(nq-1)), nq-1)\n",
    "#     qc.h(nq-1)\n",
    "#     for q in range(nq):\n",
    "#         qc.x(q)\n",
    "#     for q in range(nq):\n",
    "#         qc.h(q)\n",
    "#     U = qc.to_gate()\n",
    "#     U.name = \"U$_s\"\n",
    "#     return U"
   ]
  },
  {
   "cell_type": "markdown",
   "id": "ee92a3f1",
   "metadata": {
    "jp-MarkdownHeadingCollapsed": true,
    "tags": []
   },
   "source": [
    "# Nonogram Setup"
   ]
  },
  {
   "cell_type": "markdown",
   "id": "d3ed68a9",
   "metadata": {
    "tags": []
   },
   "source": [
    "## Possible nonogram descriptions"
   ]
  },
  {
   "cell_type": "code",
   "execution_count": 166,
   "id": "5263a984",
   "metadata": {},
   "outputs": [],
   "source": [
    "possible_d = {\n",
    "    # l = 1\n",
    "    \"1/0;\" : [0b0],\n",
    "    \"1/1;\" : [0b1],\n",
    "        \n",
    "    # l = 2\n",
    "    \"2/0;\" : [0b00],\n",
    "    \"2/1;\" : [0b01,0b10],\n",
    "    \"2/2;\" : [0b11],\n",
    "    \n",
    "    # l = 3\n",
    "    \"3/0;\" : [0b000],\n",
    "    \"3/1;\" : [0b100, 0b010,0b001],\n",
    "    \"3/2;\" : [0b110,0b011],\n",
    "    \"3/3;\" : [0b111],\n",
    "    \"3/1;1;\" : [0b101],\n",
    "    \n",
    "    # l = 4\n",
    "    \"4/0;\" : [0b0000],\n",
    "    \"4/1;\" : [0b1000,0b0100, 0b0010,0b0001],\n",
    "    \"4/2;\" : [0b1100,0b0110,0b0011],\n",
    "    \"4/3;\" : [0b1110,0b0111],\n",
    "    \"4/4;\" : [0b1111],\n",
    "    \"4/1;1;\" : [0b1010,0b0101,0b1001],\n",
    "    \"4/2;1;\" : [0b1101],\n",
    "    \"4/1;2;\" : [0b1011],\n",
    "              \n",
    "    # l = 5\n",
    "    \"5/0;\" : [0b00000],\n",
    "    \"5/1;\" : [0b10000,0b01000,0b00100,0b00010,0b00001],\n",
    "    \"5/2;\" : [0b11000,0b01100,0b00110, 0b00011],\n",
    "    \"5/3;\" : [0b11100,0b01110,0b00111],\n",
    "    \"5/4;\" : [0b11110,0b01111],\n",
    "    \"5/5;\" : [0b11111],\n",
    "    \"5/1;1;\" : [0b10100,0b10010,0b10001,0b01010,0b01001,0b00101],\n",
    "    \"5/1;2;\" : [0b10011,0b10110,0b01011],\n",
    "    \"5/1;3;\" : [0b10111],\n",
    "    \"5/2;1;\" : [0b11001,0b11010,0b01101,],\n",
    "    \"5/2;2;\" : [0b11011],\n",
    "    \"5/3;1;\" : [0b11101],\n",
    "    \"5/1;1;1;\" : [0b10101],\n",
    "}"
   ]
  },
  {
   "cell_type": "code",
   "execution_count": 10,
   "id": "689f2aad",
   "metadata": {},
   "outputs": [],
   "source": [
    "def var_clauses(n, d=None):\n",
    "    if d is None:\n",
    "        d = n\n",
    "    X = np.arange(n*d).reshape((n,d))\n",
    "    col_vars = []\n",
    "    row_vars = []\n",
    "    for row in range(n):\n",
    "        row_vars.append(list(X[row, :]))\n",
    "    for col in range(d):\n",
    "        col_vars.append(list(X[:, col]))\n",
    "    return row_vars, col_vars"
   ]
  },
  {
   "cell_type": "code",
   "execution_count": 20,
   "id": "2cbb9edb",
   "metadata": {},
   "outputs": [],
   "source": [
    "def to_regex(d, l):\n",
    "    regex = None\n",
    "    num_clues = len(d)\n",
    "    if num_clues == 0:\n",
    "        regex = f'0{{{l}}}'\n",
    "    elif num_clues == 1:\n",
    "        regex = f'0*1{{{d[0]}}}0*'\n",
    "    else:\n",
    "        regex = '0*'\n",
    "        for val in d:\n",
    "            regex += f'1{{{val}}}0+'\n",
    "        regex = regex[:-1] + \"*\"\n",
    "    return regex"
   ]
  },
  {
   "cell_type": "code",
   "execution_count": 21,
   "id": "d510c2e7",
   "metadata": {},
   "outputs": [],
   "source": [
    "def display_nonogram(bit_string, n, d):\n",
    "    if (n*d > len(bit_string)):\n",
    "        raise Exception(f'bitstring is length {len(bit_string)}, expected {n * d}')\n",
    "    \n",
    "    puzzle_array = np.zeros((n ,d))\n",
    "    for i in range(n):\n",
    "        for j in range(d):\n",
    "            puzzle_array[i,j] = int(bit_string[i*d+j])\n",
    "    print('╔' + '═'*d + '╗')\n",
    "    \n",
    "    for i in range(n):\n",
    "        print_row = '║'\n",
    "        for j in range(d):\n",
    "            if puzzle_array[i,j] == 0:\n",
    "                print_row += '░'\n",
    "            else:\n",
    "                print_row += '▓'\n",
    "        print_row += '║ ' \n",
    "        #+ ' '.join(map(str, row_clues[i]))\n",
    "        print(print_row)\n",
    "    print('╚' + '═'*d + '╝')"
   ]
  },
  {
   "cell_type": "markdown",
   "id": "c8217901",
   "metadata": {
    "jp-MarkdownHeadingCollapsed": true,
    "tags": []
   },
   "source": [
    "# Driver"
   ]
  },
  {
   "cell_type": "code",
   "execution_count": 107,
   "id": "31cc33be",
   "metadata": {},
   "outputs": [],
   "source": [
    "def grovers(n, d, row_clues, col_clues, num_iter, oracle = None):\n",
    "    n_qubits = n*d\n",
    "    c = QuantumCircuit(n_qubits, n_qubits)\n",
    "    if oracle == None:\n",
    "        oracle = boolean_phase_oracle(row_clues, col_clues, n, d)\n",
    "    c.h(range(n_qubits))\n",
    "    \n",
    "    for i in range(int(np.sqrt(num_iter))):\n",
    "        c.append(oracle, range(n_qubits))\n",
    "        apply_diffusion(c, range(n_qubits))\n",
    "        \n",
    "    c.measure(range(n_qubits), range(n_qubits))\n",
    "    return c"
   ]
  },
  {
   "cell_type": "code",
   "execution_count": 167,
   "id": "b0c408ac",
   "metadata": {},
   "outputs": [
    {
     "data": {
      "text/plain": [
       "'((~v0&~v1&~v2&v3&v4)|(~v0&~v1&v2&v3&~v4)|(~v0&v1&v2&~v3&~v4)|(v0&v1&~v2&~v3&~v4))&((~v5&~v6&v7&~v8&v9)|(~v5&v6&~v7&~v8&v9)|(v5&~v6&~v7&~v8&v9)|(~v5&v6&~v7&v8&~v9)|(v5&~v6&~v7&v8&~v9)|(v5&~v6&v7&~v8&~v9))&((~v10&~v11&v12&~v13&v14)|(~v10&v11&~v12&~v13&v14)|(v10&~v11&~v12&~v13&v14)|(~v10&v11&~v12&v13&~v14)|(v10&~v11&~v12&v13&~v14)|(v10&~v11&v12&~v13&~v14))&((~v15&~v16&v17&~v18&v19)|(~v15&v16&~v17&~v18&v19)|(v15&~v16&~v17&~v18&v19)|(~v15&v16&~v17&v18&~v19)|(v15&~v16&~v17&v18&~v19)|(v15&~v16&v17&~v18&~v19))&((~v20&~v21&~v22&v23&v24)|(~v20&~v21&v22&v23&~v24)|(~v20&v21&v22&~v23&~v24)|(v20&v21&~v22&~v23&~v24))&((~v0&~v5&~v10&~v15&v20)|(~v0&~v5&~v10&v15&~v20)|(~v0&~v5&v10&~v15&~v20)|(~v0&v5&~v10&~v15&~v20)|(v0&~v5&~v10&~v15&~v20))&((v1&v6&~v11&~v16&v21)|(~v1&v6&v11&~v16&v21)|(v1&v6&~v11&v16&~v21))&((v2&~v7&~v12&v17&v22)|(~v2&v7&~v12&v17&v22)|(v2&~v7&v12&v17&~v22))&((~v3&~v8&v13&~v18&v23)|(~v3&v8&~v13&~v18&v23)|(v3&~v8&~v13&~v18&v23)|(~v3&v8&~v13&v18&~v23)|(v3&~v8&~v13&v18&~v23)|(v3&~v8&v13&~v18&~v23))&((~v4&~v9&~v14&~v19&v24)|(~v4&~v9&~v14&v19&~v24)|(~v4&~v9&v14&~v19&~v24)|(~v4&v9&~v14&~v19&~v24)|(v4&~v9&~v14&~v19&~v24))'"
      ]
     },
     "execution_count": 167,
     "metadata": {},
     "output_type": "execute_result"
    }
   ],
   "source": [
    "# Define nonogram [size and clues]\n",
    "solution = [\"0110010100010100100100110\"]\n",
    "rows = 5\n",
    "columns = 5\n",
    "row_desc = [(2,),(1,1,),(1,1),(1,1),(2,)]\n",
    "col_desc = [(1,),(1,2,),(2,1,),(1,1,),(1,)]\n",
    "num_solns = 1\n",
    "num_iterations = math.ceil(math.pi/4 * math.sqrt(2**(n*d)/num_solns))\n",
    "manual_adjustment = 0\n",
    "boolean_phase_oracle(row_desc, col_desc, rows, columns, True)"
   ]
  },
  {
   "cell_type": "code",
   "execution_count": null,
   "id": "1a97dead",
   "metadata": {},
   "outputs": [],
   "source": [
    "# Rose\n",
    "# expected_bs = '00000000000001111000000000000000000011000010000000000000000010011110110000000000001110110111010111000000011001001100011100110000010001010001111110101000011001100110001100110100001000111001110000110010001100111111000111110011000100110000111110000011000001110000000111001111100000100000001100110000110000001111111100001000010000000010000000000110011000000000100000000001111000000000011110000000111000000000000111110011110000000000000111101111111110000000000100011001111110100100000000001111111000000001001111100011111000000011101111111101111000111111100101111111111100111110110101111111011100111000110011111110001111111111110001100000000111100011110000110000000111000000000000001100000011110000000000000000000111110000000000000000000000110001111100000000000000111011110011010000000000011111111110110000000000001111000011110000000000011110000000000000000000000011000000000000000'\n",
    "# test using oracle=PhaseOracle(\"\")\n",
    "#oracle = PhaseOracle(\"v0&v1\")\n",
    "oracle = None\n",
    "qc = grovers(rows, columns, row_desc, col_desc, num_iterations + manual_adjustment, oracle)\n",
    "\n",
    "qc.draw(fold=-1)"
   ]
  },
  {
   "cell_type": "code",
   "execution_count": 164,
   "id": "0a82c922",
   "metadata": {},
   "outputs": [
    {
     "name": "stdout",
     "output_type": "stream",
     "text": [
      "Expected: \n",
      "1000\n",
      "╔═╗\n",
      "║▓║ \n",
      "║░║ \n",
      "╚═╝\n"
     ]
    },
    {
     "data": {
      "image/png": "[encoded data removed]",
      "text/plain": [
       "<Figure size 700x500 with 1 Axes>"
      ]
     },
     "execution_count": 164,
     "metadata": {},
     "output_type": "execute_result"
    }
   ],
   "source": [
    "print(\"Expected: \")\n",
    "for solution in solutions:\n",
    "    print(solution)\n",
    "    display_nonogram(solution, rows, columns)\n",
    "\n",
    "aer_sim = Aer.get_backend('aer_simulator')       \n",
    "result = execute(qc, aer_sim, shots=1024).result()\n",
    "counts = result.get_counts()\n",
    "plot_histogram(counts)"
   ]
  },
  {
   "cell_type": "markdown",
   "id": "be088ce1-bb35-4a5e-991d-13f682ec0473",
   "metadata": {
    "tags": []
   },
   "source": [
    "# Unit tests"
   ]
  },
  {
   "cell_type": "markdown",
   "id": "bcf9cf94-cfa2-4242-b1c1-48af217caec1",
   "metadata": {},
   "source": [
    "## Diffusion"
   ]
  },
  {
   "cell_type": "code",
   "execution_count": 10,
   "id": "e395f5f9-9994-4142-8913-e4ee682680e7",
   "metadata": {
    "tags": []
   },
   "outputs": [],
   "source": []
  },
  {
   "cell_type": "code",
   "execution_count": 6,
   "id": "c99864af-1b85-48c8-9c04-b707174d0f47",
   "metadata": {
    "tags": []
   },
   "outputs": [],
   "source": []
  },
  {
   "cell_type": "code",
   "execution_count": 5,
   "id": "5c2ee51f-f359-4810-8af9-cff5e9a22982",
   "metadata": {
    "tags": []
   },
   "outputs": [],
   "source": [
    "def test_apply_diffusion_x():\n",
    "    c = QuantumCircuit(2)\n",
    "    q = c.qubits\n",
    "    apply_diffusion(c,q)\n",
    "    assert c.count_ops()['x'] == 2"
   ]
  },
  {
   "cell_type": "code",
   "execution_count": null,
   "id": "dbf882be-5841-40c1-bdc7-1253f4cb08e9",
   "metadata": {},
   "outputs": [],
   "source": [
    "def test_aply_diffusion_mct():\n",
    "    c = QuantumCircuit(2)\n",
    "    q = c.qubits\n",
    "    apply_diffusion(c,q)\n",
    "    assert c.count_ops()['h'] == 3"
   ]
  }
 ],
 "metadata": {
  "kernelspec": {
   "display_name": "Python 3 (ipykernel)",
   "language": "python",
   "name": "python3"
  },
  "language_info": {
   "codemirror_mode": {
    "name": "ipython",
    "version": 3
   },
   "file_extension": ".py",
   "mimetype": "text/x-python",
   "name": "python",
   "nbconvert_exporter": "python",
   "pygments_lexer": "ipython3",
   "version": "3.10.9"
  }
 },
 "nbformat": 4,
 "nbformat_minor": 5
}
