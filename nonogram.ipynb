{
 "cells": [
  {
   "cell_type": "markdown",
   "id": "e1c1bf70-7f67-438a-b7ac-539165b60efc",
   "metadata": {
    "jp-MarkdownHeadingCollapsed": true,
    "tags": []
   },
   "source": [
    "# Initialization"
   ]
  },
  {
   "cell_type": "markdown",
   "id": "7c1ed02c-d239-4bf4-b1ff-8cd90128a255",
   "metadata": {
    "jp-MarkdownHeadingCollapsed": true,
    "tags": []
   },
   "source": [
    "## Imports"
   ]
  },
  {
   "cell_type": "code",
   "execution_count": 1,
   "id": "3e8739e4-6645-4695-8a01-22b134b9eeab",
   "metadata": {
    "tags": []
   },
   "outputs": [
    {
     "name": "stdout",
     "output_type": "stream",
     "text": [
      "Tweedledum library is not installed and your system (MacOS) is not compatible with this program.\n"
     ]
    }
   ],
   "source": [
    "import sys\n",
    "import platform\n",
    "\n",
    "try:\n",
    "    import tweedledum\n",
    "    print(\"Tweedledum library is installed.\")\n",
    "except ImportError:\n",
    "    if platform.system() == 'Darwin':\n",
    "        print(\"Tweedledum library is not installed and your system (MacOS) is not compatible with this program.\")\n",
    "    else:\n",
    "        print(\"Tweedledum library is not installed.\")"
   ]
  },
  {
   "cell_type": "code",
   "execution_count": 2,
   "id": "478b1ab7-009b-488b-8b74-b87e50dc0cd9",
   "metadata": {
    "tags": []
   },
   "outputs": [],
   "source": [
    "import matplotlib.pyplot as plt\n",
    "import matplotlib as mpl\n",
    "import numpy as np\n",
    "import math\n",
    "import pytest\n",
    "\n",
    "from qiskit import IBMQ, Aer, assemble, transpile, QuantumCircuit, ClassicalRegister, QuantumRegister, execute\n",
    "from qiskit.quantum_info.operators import Operator\n",
    "from qiskit.providers.ibmq import least_busy\n",
    "from qiskit.visualization import plot_histogram\n",
    "from qiskit.circuit.library import PhaseOracle\n",
    "from qiskit.algorithms import Grover, AmplificationProblem"
   ]
  },
  {
   "cell_type": "markdown",
   "id": "618fc9fd-fb60-4932-b0f5-2e40b8648ed9",
   "metadata": {
    "jp-MarkdownHeadingCollapsed": true,
    "tags": []
   },
   "source": [
    "## Nonogram Code"
   ]
  },
  {
   "cell_type": "code",
   "execution_count": 9,
   "id": "6d6686b9-3483-49fa-9d41-a14979041da4",
   "metadata": {
    "tags": []
   },
   "outputs": [],
   "source": [
    "# All possible nonogram descriptions for l=5 through l=5\n",
    "# TODO: Replace with function to generate all bitstrings for a given clue\n",
    "\n",
    "possible_d = {\n",
    "    # l = 1\n",
    "    \"1/0;\" : [0b0],\n",
    "    \"1/1;\" : [0b1],\n",
    "        \n",
    "    # l = 2\n",
    "    \"2/0;\" : [0b00],\n",
    "    \"2/1;\" : [0b01,0b10],\n",
    "    \"2/2;\" : [0b11],\n",
    "    \n",
    "    # l = 3\n",
    "    \"3/0;\" : [0b000],\n",
    "    \"3/1;\" : [0b100, 0b010,0b001],\n",
    "    \"3/2;\" : [0b110,0b011],\n",
    "    \"3/3;\" : [0b111],\n",
    "    \"3/1;1;\" : [0b101],\n",
    "    \n",
    "    # l = 4\n",
    "    \"4/0;\" : [0b0000],\n",
    "    \"4/1;\" : [0b1000,0b0100, 0b0010,0b0001],\n",
    "    \"4/2;\" : [0b1100,0b0110,0b0011],\n",
    "    \"4/3;\" : [0b1110,0b0111],\n",
    "    \"4/4;\" : [0b1111],\n",
    "    \"4/1;1;\" : [0b1010,0b0101,0b1001],\n",
    "    \"4/2;1;\" : [0b1101],\n",
    "    \"4/1;2;\" : [0b1011],\n",
    "              \n",
    "    # l = 5\n",
    "    \"5/0;\" : [0b00000],\n",
    "    \"5/1;\" : [0b10000,0b01000,0b00100,0b00010,0b00001],\n",
    "    \"5/2;\" : [0b11000,0b01100,0b00110, 0b00011],\n",
    "    \"5/3;\" : [0b11100,0b01110,0b00111],\n",
    "    \"5/4;\" : [0b11110,0b01111],\n",
    "    \"5/5;\" : [0b11111],\n",
    "    \"5/1;1;\" : [0b10100,0b10010,0b10001,0b01010,0b01001,0b00101],\n",
    "    \"5/1;2;\" : [0b10011,0b10110,0b01011],\n",
    "    \"5/1;3;\" : [0b10111],\n",
    "    \"5/2;1;\" : [0b11001,0b11010,0b01101,],\n",
    "    \"5/2;2;\" : [0b11011],\n",
    "    \"5/3;1;\" : [0b11101],\n",
    "    \"5/1;1;1;\" : [0b10101],\n",
    "}\n",
    "\n",
    "# Takes an n x d board and returns the variables for each row, column\n",
    "def var_clauses(n, d=None):\n",
    "    if d is None:\n",
    "        d = n\n",
    "    X = np.arange(n*d).reshape((n,d))\n",
    "    col_vars = []\n",
    "    row_vars = []\n",
    "    for row in range(n):\n",
    "        row_vars.append(list(X[row, :]))\n",
    "    for col in range(d):\n",
    "        col_vars.append(list(X[:, col]))\n",
    "    return row_vars, col_vars\n",
    "\n",
    "def display_nonogram(bit_string, n, d):\n",
    "    if (n*d > len(bit_string)):\n",
    "        raise Exception(f'bitstring is length {len(bit_string)}, expected {n * d}')\n",
    "    \n",
    "    puzzle_array = np.zeros((n ,d))\n",
    "    for i in range(n):\n",
    "        for j in range(d):\n",
    "            puzzle_array[i,j] = int(bit_string[i*d+j])\n",
    "    print('╔' + '═'*d + '╗')\n",
    "    \n",
    "    for i in range(n):\n",
    "        print_row = '║'\n",
    "        for j in range(d):\n",
    "            if puzzle_array[i,j] == 0:\n",
    "                print_row += '░'\n",
    "            else:\n",
    "                print_row += '▓'\n",
    "        print_row += '║ ' \n",
    "        print(print_row)\n",
    "    print('╚' + '═'*d + '╝')\n",
    "    \n",
    "def validate(rows, cols, r_clues, c_clues):\n",
    "    if (len(r_clues) != rows):\n",
    "        raise Exception(f\"Error: Number of clues {len(r_clues)} invalid to row size {rows}\")\n",
    "    if (len(c_clues) != cols):\n",
    "        raise Exception(f\"Error: Number of clues {len(c_clues)} invalid to row size {cols}\")\n",
    "    # TODO: Flesh out clue validation with invalid clue for given length/width\n",
    "    return True"
   ]
  },
  {
   "cell_type": "markdown",
   "id": "f25cb6e8-39e7-4c4e-b00b-9142e5d3929f",
   "metadata": {
    "jp-MarkdownHeadingCollapsed": true,
    "tags": []
   },
   "source": [
    "## Quantum Oracle Construction"
   ]
  },
  {
   "cell_type": "code",
   "execution_count": 6,
   "id": "20711505-a421-47b9-b037-35c15a7918fc",
   "metadata": {
    "tags": []
   },
   "outputs": [],
   "source": [
    "def boolean_phase_oracle(row_clues, col_clues, n, d = None, debug_mode = False):\n",
    "    if d is None:\n",
    "        d = n\n",
    "    boolean_statement = \"\"\n",
    "    r_v, c_v = var_clauses(n, d)\n",
    "    \n",
    "    for r_idx, r_clue in enumerate(row_clues):\n",
    "        bit_strings = possible_d[f\"{n}/{';'.join(map(str, r_clue))};\"]\n",
    "        clauses = []\n",
    "        for b_idx, bitstring in enumerate(bit_strings):\n",
    "            clause = \"\"\n",
    "            for c_idx in range(d):\n",
    "                if bitstring & (1 << c_idx):\n",
    "                    clause += f'v{r_v[r_idx][c_idx]}&'\n",
    "                else:\n",
    "                    clause += f'~v{r_v[r_idx][c_idx]}&'\n",
    "            clauses.append(\"(\" + clause[:-1] + \")\")\n",
    "        boolean_statement += \"(\" + \"|\".join(clauses) + \")&\"\n",
    "        \n",
    " # iterate over column clues (same as with row clues, but with transposed variables)\n",
    "    for c_idx, c_clue in enumerate(col_clues):\n",
    "        bitstrings = possible_d[f\"{d}/{';'.join(map(str, c_clue))};\"]\n",
    "        clauses = []\n",
    "        for b_idx, bitstring in enumerate(bitstrings):\n",
    "            clause = \"\"\n",
    "            for r_idx in range(n):\n",
    "                if bitstring & (1 << r_idx):\n",
    "                    clause += f\"v{r_v[r_idx][c_idx]}&\"\n",
    "                else:\n",
    "                    clause += f\"~v{r_v[r_idx][c_idx]}&\"\n",
    "            clauses.append(\"(\" + clause[:-1] + \")\")\n",
    "        boolean_statement += \"(\" + \"|\".join(clauses) + \")&\"\n",
    " \n",
    "    # remove trailing \"&\"\n",
    "    boolean_statement = boolean_statement[:-1]\n",
    "    return PhaseOracle(boolean_statement) if not debug_mode else boolean_statement\n",
    " "
   ]
  },
  {
   "cell_type": "markdown",
   "id": "9429f1d3-c7b6-4146-aa73-5aab7899c253",
   "metadata": {},
   "source": [
    "# Driver Code"
   ]
  },
  {
   "cell_type": "code",
   "execution_count": 7,
   "id": "63de4df3-5af0-4d5e-b12f-f4a68dfc3cd2",
   "metadata": {
    "tags": []
   },
   "outputs": [
    {
     "name": "stdout",
     "output_type": "stream",
     "text": [
      "\"The 'tweedledum' library is required to use 'PhaseOracle'. You can install it with 'pip install tweedledum'.\"\n"
     ]
    }
   ],
   "source": [
    "# Define nonogram [size and clues]\n",
    "solutions = [\"0110\"] # Leave empty if unknown\n",
    "\n",
    "if not solutions or len(solutions) == 0:\n",
    "    num_solutions = 1 # Assumed\n",
    "else:\n",
    "    num_solutions = len(solutions) # Given\n",
    "\n",
    "# Make sure all rows/cols have a clue\n",
    "row_clues = [(1,),(0,),]\n",
    "rows = len(row_clues)\n",
    "\n",
    "col_clues = [(0,),(1,),]\n",
    "columns = len(col_clues)\n",
    "\n",
    "try:\n",
    "    validate(rows, columns, row_clues, col_clues)\n",
    "    \n",
    "    num_iterations = math.ceil(math.pi/4 * math.sqrt(2**(rows*columns)/num_solutions))\n",
    "    \n",
    "    oracle = boolean_phase_oracle(row_clues=row_clues,col_clues=col_clues,n=rows,d=columns)\n",
    "    problem = AmplificationProblem(oracle=oracle)\n",
    "    algorithm = Grover(iterations=num_iterations)\n",
    "    \n",
    "    circuit = algorithm.construct_circuit(problem)\n",
    "    circuit.measure_all()\n",
    "    print(circuit)\n",
    "    \n",
    "except Exception as e: \n",
    "    print(e)"
   ]
  },
  {
   "cell_type": "markdown",
   "id": "93dd4811-8346-45d0-a3bd-468bdd98f232",
   "metadata": {
    "jp-MarkdownHeadingCollapsed": true,
    "tags": []
   },
   "source": [
    "## Results"
   ]
  },
  {
   "cell_type": "code",
   "execution_count": 8,
   "id": "fe3dbd34-b2cb-480a-be98-400ca26980c6",
   "metadata": {
    "tags": []
   },
   "outputs": [
    {
     "name": "stdout",
     "output_type": "stream",
     "text": [
      "Expected: \n",
      "0110\n",
      "╔══╗\n",
      "║░▓║ \n",
      "║▓░║ \n",
      "╚══╝\n"
     ]
    },
    {
     "ename": "NameError",
     "evalue": "name 'circuit' is not defined",
     "output_type": "error",
     "traceback": [
      "\u001b[0;31m---------------------------------------------------------------------------\u001b[0m",
      "\u001b[0;31mNameError\u001b[0m                                 Traceback (most recent call last)",
      "Cell \u001b[0;32mIn[8], line 7\u001b[0m\n\u001b[1;32m      4\u001b[0m     display_nonogram(solution, rows, columns)\n\u001b[1;32m      6\u001b[0m backend \u001b[38;5;241m=\u001b[39m Aer\u001b[38;5;241m.\u001b[39mget_backend(\u001b[38;5;124m'\u001b[39m\u001b[38;5;124maer_simulator\u001b[39m\u001b[38;5;124m'\u001b[39m)  \n\u001b[0;32m----> 7\u001b[0m job \u001b[38;5;241m=\u001b[39m execute(\u001b[43mcircuit\u001b[49m, backend, shots\u001b[38;5;241m=\u001b[39m\u001b[38;5;241m1024\u001b[39m)\n\u001b[1;32m      8\u001b[0m result \u001b[38;5;241m=\u001b[39m job\u001b[38;5;241m.\u001b[39mresult()\n\u001b[1;32m      9\u001b[0m counts \u001b[38;5;241m=\u001b[39m result\u001b[38;5;241m.\u001b[39mget_counts(circuit)\n",
      "\u001b[0;31mNameError\u001b[0m: name 'circuit' is not defined"
     ]
    }
   ],
   "source": [
    "print(\"Expected: \")\n",
    "for solution in solutions:\n",
    "    print(solution)\n",
    "    display_nonogram(solution, rows, columns)\n",
    "\n",
    "backend = Aer.get_backend('aer_simulator')  \n",
    "job = execute(circuit, backend, shots=1024)\n",
    "result = job.result()\n",
    "counts = result.get_counts(circuit)\n",
    "# plot_histogram(counts)\n",
    "\n",
    "sorted_counts = dict(sorted(counts.items(), key= lambda item: item[1], reverse = True))\n",
    "top_three = dict(list(sorted_counts.items())[:3])\n",
    "print(\"Actual: \")\n",
    "print(top_three[0])\n",
    "display_nonogram(top_three[0], rows, columns)\n",
    "plot_histogram(top_three)"
   ]
  }
 ],
 "metadata": {
  "kernelspec": {
   "display_name": "Python 3 (ipykernel)",
   "language": "python",
   "name": "python3"
  },
  "language_info": {
   "codemirror_mode": {
    "name": "ipython",
    "version": 3
   },
   "file_extension": ".py",
   "mimetype": "text/x-python",
   "name": "python",
   "nbconvert_exporter": "python",
   "pygments_lexer": "ipython3",
   "version": "3.11.2"
  }
 },
 "nbformat": 4,
 "nbformat_minor": 5
}
